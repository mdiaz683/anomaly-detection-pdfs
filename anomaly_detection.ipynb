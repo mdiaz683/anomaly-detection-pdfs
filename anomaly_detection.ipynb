{
 "cells": [
  {
   "cell_type": "code",
   "execution_count": 56,
   "id": "536e3b4c",
   "metadata": {},
   "outputs": [
    {
     "name": "stdout",
     "output_type": "stream",
     "text": [
      "Warning: Looks like you're using an outdated `kagglehub` version, please consider updating (latest version: 0.3.11)\n",
      "Path to dataset files: C:\\Users\\34609\\.cache\\kagglehub\\datasets\\dhoogla\\cic-evasive-pdfmal2022\\versions\\2\n"
     ]
    }
   ],
   "source": [
    "# Just if you want to obtain the data directly from Kaggle use this cell\n",
    "import kagglehub\n",
    " # Download latest version\n",
    "path = kagglehub.dataset_download(\"dhoogla/cic-evasive-pdfmal2022\")\n",
    "print(\"Path to dataset files:\", path)"
   ]
  },
  {
   "cell_type": "code",
   "execution_count": 57,
   "id": "a06cf1a1",
   "metadata": {},
   "outputs": [],
   "source": [
    "import numpy as np\n",
    "import pandas as pd\n",
    "import matplotlib.pyplot as plt\n",
    "import seaborn as sns\n",
    "\n",
    "from sklearn.preprocessing import MinMaxScaler\n",
    "from sklearn.model_selection import train_test_split\n",
    "\n",
    "from sklearn.metrics import (\n",
    "    precision_score,\n",
    "    recall_score,\n",
    "    f1_score,\n",
    "    confusion_matrix,\n",
    "    ConfusionMatrixDisplay\n",
    ")\n",
    "\n",
    "import tensorflow as tf\n",
    "from tensorflow.keras import layers, Model, Sequential\n",
    "from tensorflow.keras.callbacks import EarlyStopping\n",
    "\n",
    "import pyarrow.parquet as pq \n"
   ]
  },
  {
   "cell_type": "code",
   "execution_count": 58,
   "id": "c2acdd5f",
   "metadata": {},
   "outputs": [
    {
     "name": "stdout",
     "output_type": "stream",
     "text": [
      "<pyarrow._parquet.ParquetSchema object at 0x000001CFD453FBC0>\n",
      "required group field_id=-1 schema {\n",
      "  optional binary field_id=-1 FileName (String);\n",
      "  optional float field_id=-1 PdfSize;\n",
      "  optional float field_id=-1 MetadataSize;\n",
      "  optional float field_id=-1 Pages;\n",
      "  optional float field_id=-1 XrefLength;\n",
      "  optional float field_id=-1 TitleCharacters;\n",
      "  optional float field_id=-1 isEncrypted;\n",
      "  optional float field_id=-1 EmbeddedFiles;\n",
      "  optional binary field_id=-1 Images (String);\n",
      "  optional binary field_id=-1 Text (String);\n",
      "  optional binary field_id=-1 Header (String);\n",
      "  optional binary field_id=-1 Obj (String);\n",
      "  optional binary field_id=-1 Endobj (String);\n",
      "  optional float field_id=-1 Stream;\n",
      "  optional binary field_id=-1 Endstream (String);\n",
      "  optional binary field_id=-1 Xref (String);\n",
      "  optional float field_id=-1 Trailer;\n",
      "  optional binary field_id=-1 StartXref (String);\n",
      "  optional binary field_id=-1 PageNo (String);\n",
      "  optional float field_id=-1 Encrypt;\n",
      "  optional float field_id=-1 ObjStm;\n",
      "  optional binary field_id=-1 JS (String);\n",
      "  optional binary field_id=-1 Javascript (String);\n",
      "  optional binary field_id=-1 AA (String);\n",
      "  optional binary field_id=-1 OpenAction (String);\n",
      "  optional binary field_id=-1 Acroform (String);\n",
      "  optional binary field_id=-1 JBIG2Decode (String);\n",
      "  optional binary field_id=-1 RichMedia (String);\n",
      "  optional binary field_id=-1 Launch (String);\n",
      "  optional binary field_id=-1 EmbeddedFile (String);\n",
      "  optional binary field_id=-1 XFA (String);\n",
      "  optional float field_id=-1 Colors;\n",
      "  optional binary field_id=-1 Class (String);\n",
      "  optional int64 field_id=-1 __index_level_0__;\n",
      "}\n",
      "\n",
      "Número de filas: 10023\n",
      "Número de columnas: 34\n"
     ]
    }
   ],
   "source": [
    "path = 'PDFMalware2022.parquet'\n",
    "parquet_file = pq.ParquetFile(path)\n",
    "\n",
    "print(parquet_file.schema)\n",
    "\n",
    "print(\"Número de filas:\", parquet_file.metadata.num_rows)\n",
    "print(\"Número de columnas:\", parquet_file.metadata.num_columns)"
   ]
  },
  {
   "cell_type": "code",
   "execution_count": 59,
   "id": "8a06b2d7",
   "metadata": {},
   "outputs": [
    {
     "data": {
      "application/vnd.microsoft.datawrangler.viewer.v0+json": {
       "columns": [
        {
         "name": "index",
         "rawType": "int64",
         "type": "integer"
        },
        {
         "name": "FileName",
         "rawType": "category",
         "type": "unknown"
        },
        {
         "name": "PdfSize",
         "rawType": "float32",
         "type": "float"
        },
        {
         "name": "MetadataSize",
         "rawType": "float32",
         "type": "float"
        },
        {
         "name": "Pages",
         "rawType": "float32",
         "type": "float"
        },
        {
         "name": "XrefLength",
         "rawType": "float32",
         "type": "float"
        },
        {
         "name": "TitleCharacters",
         "rawType": "float32",
         "type": "float"
        },
        {
         "name": "isEncrypted",
         "rawType": "float32",
         "type": "float"
        },
        {
         "name": "EmbeddedFiles",
         "rawType": "float32",
         "type": "float"
        },
        {
         "name": "Images",
         "rawType": "category",
         "type": "unknown"
        },
        {
         "name": "Text",
         "rawType": "category",
         "type": "unknown"
        },
        {
         "name": "Header",
         "rawType": "category",
         "type": "unknown"
        },
        {
         "name": "Obj",
         "rawType": "category",
         "type": "unknown"
        },
        {
         "name": "Endobj",
         "rawType": "category",
         "type": "unknown"
        },
        {
         "name": "Stream",
         "rawType": "float32",
         "type": "float"
        },
        {
         "name": "Endstream",
         "rawType": "category",
         "type": "unknown"
        },
        {
         "name": "Xref",
         "rawType": "category",
         "type": "unknown"
        },
        {
         "name": "Trailer",
         "rawType": "float32",
         "type": "float"
        },
        {
         "name": "StartXref",
         "rawType": "category",
         "type": "unknown"
        },
        {
         "name": "PageNo",
         "rawType": "category",
         "type": "unknown"
        },
        {
         "name": "Encrypt",
         "rawType": "float32",
         "type": "float"
        },
        {
         "name": "ObjStm",
         "rawType": "float32",
         "type": "float"
        },
        {
         "name": "JS",
         "rawType": "category",
         "type": "unknown"
        },
        {
         "name": "Javascript",
         "rawType": "category",
         "type": "unknown"
        },
        {
         "name": "AA",
         "rawType": "category",
         "type": "unknown"
        },
        {
         "name": "OpenAction",
         "rawType": "category",
         "type": "unknown"
        },
        {
         "name": "Acroform",
         "rawType": "category",
         "type": "unknown"
        },
        {
         "name": "JBIG2Decode",
         "rawType": "category",
         "type": "unknown"
        },
        {
         "name": "RichMedia",
         "rawType": "category",
         "type": "unknown"
        },
        {
         "name": "Launch",
         "rawType": "category",
         "type": "unknown"
        },
        {
         "name": "EmbeddedFile",
         "rawType": "category",
         "type": "unknown"
        },
        {
         "name": "XFA",
         "rawType": "category",
         "type": "unknown"
        },
        {
         "name": "Colors",
         "rawType": "float32",
         "type": "float"
        },
        {
         "name": "Class",
         "rawType": "category",
         "type": "unknown"
        }
       ],
       "conversionMethod": "pd.DataFrame",
       "ref": "e3d931c3-711b-448b-82f9-8f34b1b8e510",
       "rows": [
        [
         "0",
         "aedaf3c5428a2e3ba600c44b96ad78dfdf8ed76e7df129bcd8174d83b77a9c33",
         "8.0",
         "180.0",
         "1.0",
         "11.0",
         "0.0",
         "0.0",
         "0.0",
         "0",
         "No",
         "\t%PDF-1.3",
         "10",
         "10",
         "3.0",
         "3",
         "1",
         "1.0",
         "1",
         "1",
         "0.0",
         "0.0",
         "1",
         "1",
         "0",
         "1",
         "0",
         "0",
         "0",
         "0",
         "0",
         "0",
         "0.0",
         "Malicious"
        ],
        [
         "1",
         "fe767fb2584a10c010626263ea950643ac25f6ca24628f2c4879f0c2d11946aa",
         "15.0",
         "224.0",
         "0.0",
         "20.0",
         "7.0",
         "0.0",
         "0.0",
         "0",
         "No",
         "\t%PDF-1.6",
         "19",
         "19",
         "9.0",
         "9",
         "1",
         "1.0",
         "1",
         "1",
         "0.0",
         "0.0",
         "0",
         "0",
         "0",
         "0",
         "1",
         "0",
         "0",
         "0",
         "8",
         "1",
         "0.0",
         "Malicious"
        ],
        [
         "2",
         "544c5223ee301affad514b6fa585b3191625aba0a7222b31747a96f050c7a76b",
         "4.0",
         "468.0",
         "2.0",
         "13.0",
         "16.0",
         "0.0",
         "0.0",
         "0",
         "Yes",
         "\t%PDF-1.3",
         "12",
         "12",
         "3.0",
         "3",
         "1",
         "1.0",
         "1",
         "2",
         "0.0",
         "0.0",
         "1",
         "2",
         "0",
         "1",
         "0",
         "0",
         "0",
         "0",
         "0",
         "0",
         "0.0",
         "Malicious"
        ],
        [
         "3",
         "669772e626deccb9cfb7eb6a61e13d248d0ea08f1abe152e0e56629c27769d82",
         "17.0",
         "250.0",
         "1.0",
         "15.0",
         "0.0",
         "0.0",
         "0.0",
         "0",
         "No",
         "\t%PDF-1.3",
         "14",
         "14",
         "2.0",
         "2",
         "1",
         "1.0",
         "1",
         "1",
         "0.0",
         "0.0",
         "2",
         "3",
         "0",
         "1",
         "1",
         "0",
         "0",
         "0",
         "0",
         "0",
         "0.0",
         "Malicious"
        ],
        [
         "4",
         "e434c884f45a691b0bf33d765f61794007eb0b8bb9f590bc055c88ea3c089859",
         "7.0",
         "252.0",
         "3.0",
         "16.0",
         "45.0",
         "0.0",
         "0.0",
         "0",
         "Yes",
         "\t%PDF-1.3",
         "15",
         "15",
         "4.0",
         "4",
         "1",
         "1.0",
         "1",
         "3",
         "0.0",
         "0.0",
         "1",
         "2",
         "0",
         "1",
         "0",
         "0",
         "0",
         "0",
         "0",
         "0",
         "0.0",
         "Malicious"
        ]
       ],
       "shape": {
        "columns": 33,
        "rows": 5
       }
      },
      "text/html": [
       "<div>\n",
       "<style scoped>\n",
       "    .dataframe tbody tr th:only-of-type {\n",
       "        vertical-align: middle;\n",
       "    }\n",
       "\n",
       "    .dataframe tbody tr th {\n",
       "        vertical-align: top;\n",
       "    }\n",
       "\n",
       "    .dataframe thead th {\n",
       "        text-align: right;\n",
       "    }\n",
       "</style>\n",
       "<table border=\"1\" class=\"dataframe\">\n",
       "  <thead>\n",
       "    <tr style=\"text-align: right;\">\n",
       "      <th></th>\n",
       "      <th>FileName</th>\n",
       "      <th>PdfSize</th>\n",
       "      <th>MetadataSize</th>\n",
       "      <th>Pages</th>\n",
       "      <th>XrefLength</th>\n",
       "      <th>TitleCharacters</th>\n",
       "      <th>isEncrypted</th>\n",
       "      <th>EmbeddedFiles</th>\n",
       "      <th>Images</th>\n",
       "      <th>Text</th>\n",
       "      <th>...</th>\n",
       "      <th>AA</th>\n",
       "      <th>OpenAction</th>\n",
       "      <th>Acroform</th>\n",
       "      <th>JBIG2Decode</th>\n",
       "      <th>RichMedia</th>\n",
       "      <th>Launch</th>\n",
       "      <th>EmbeddedFile</th>\n",
       "      <th>XFA</th>\n",
       "      <th>Colors</th>\n",
       "      <th>Class</th>\n",
       "    </tr>\n",
       "  </thead>\n",
       "  <tbody>\n",
       "    <tr>\n",
       "      <th>0</th>\n",
       "      <td>aedaf3c5428a2e3ba600c44b96ad78dfdf8ed76e7df129...</td>\n",
       "      <td>8.0</td>\n",
       "      <td>180.0</td>\n",
       "      <td>1.0</td>\n",
       "      <td>11.0</td>\n",
       "      <td>0.0</td>\n",
       "      <td>0.0</td>\n",
       "      <td>0.0</td>\n",
       "      <td>0</td>\n",
       "      <td>No</td>\n",
       "      <td>...</td>\n",
       "      <td>0</td>\n",
       "      <td>1</td>\n",
       "      <td>0</td>\n",
       "      <td>0</td>\n",
       "      <td>0</td>\n",
       "      <td>0</td>\n",
       "      <td>0</td>\n",
       "      <td>0</td>\n",
       "      <td>0.0</td>\n",
       "      <td>Malicious</td>\n",
       "    </tr>\n",
       "    <tr>\n",
       "      <th>1</th>\n",
       "      <td>fe767fb2584a10c010626263ea950643ac25f6ca24628f...</td>\n",
       "      <td>15.0</td>\n",
       "      <td>224.0</td>\n",
       "      <td>0.0</td>\n",
       "      <td>20.0</td>\n",
       "      <td>7.0</td>\n",
       "      <td>0.0</td>\n",
       "      <td>0.0</td>\n",
       "      <td>0</td>\n",
       "      <td>No</td>\n",
       "      <td>...</td>\n",
       "      <td>0</td>\n",
       "      <td>0</td>\n",
       "      <td>1</td>\n",
       "      <td>0</td>\n",
       "      <td>0</td>\n",
       "      <td>0</td>\n",
       "      <td>8</td>\n",
       "      <td>1</td>\n",
       "      <td>0.0</td>\n",
       "      <td>Malicious</td>\n",
       "    </tr>\n",
       "    <tr>\n",
       "      <th>2</th>\n",
       "      <td>544c5223ee301affad514b6fa585b3191625aba0a7222b...</td>\n",
       "      <td>4.0</td>\n",
       "      <td>468.0</td>\n",
       "      <td>2.0</td>\n",
       "      <td>13.0</td>\n",
       "      <td>16.0</td>\n",
       "      <td>0.0</td>\n",
       "      <td>0.0</td>\n",
       "      <td>0</td>\n",
       "      <td>Yes</td>\n",
       "      <td>...</td>\n",
       "      <td>0</td>\n",
       "      <td>1</td>\n",
       "      <td>0</td>\n",
       "      <td>0</td>\n",
       "      <td>0</td>\n",
       "      <td>0</td>\n",
       "      <td>0</td>\n",
       "      <td>0</td>\n",
       "      <td>0.0</td>\n",
       "      <td>Malicious</td>\n",
       "    </tr>\n",
       "    <tr>\n",
       "      <th>3</th>\n",
       "      <td>669772e626deccb9cfb7eb6a61e13d248d0ea08f1abe15...</td>\n",
       "      <td>17.0</td>\n",
       "      <td>250.0</td>\n",
       "      <td>1.0</td>\n",
       "      <td>15.0</td>\n",
       "      <td>0.0</td>\n",
       "      <td>0.0</td>\n",
       "      <td>0.0</td>\n",
       "      <td>0</td>\n",
       "      <td>No</td>\n",
       "      <td>...</td>\n",
       "      <td>0</td>\n",
       "      <td>1</td>\n",
       "      <td>1</td>\n",
       "      <td>0</td>\n",
       "      <td>0</td>\n",
       "      <td>0</td>\n",
       "      <td>0</td>\n",
       "      <td>0</td>\n",
       "      <td>0.0</td>\n",
       "      <td>Malicious</td>\n",
       "    </tr>\n",
       "    <tr>\n",
       "      <th>4</th>\n",
       "      <td>e434c884f45a691b0bf33d765f61794007eb0b8bb9f590...</td>\n",
       "      <td>7.0</td>\n",
       "      <td>252.0</td>\n",
       "      <td>3.0</td>\n",
       "      <td>16.0</td>\n",
       "      <td>45.0</td>\n",
       "      <td>0.0</td>\n",
       "      <td>0.0</td>\n",
       "      <td>0</td>\n",
       "      <td>Yes</td>\n",
       "      <td>...</td>\n",
       "      <td>0</td>\n",
       "      <td>1</td>\n",
       "      <td>0</td>\n",
       "      <td>0</td>\n",
       "      <td>0</td>\n",
       "      <td>0</td>\n",
       "      <td>0</td>\n",
       "      <td>0</td>\n",
       "      <td>0.0</td>\n",
       "      <td>Malicious</td>\n",
       "    </tr>\n",
       "  </tbody>\n",
       "</table>\n",
       "<p>5 rows × 33 columns</p>\n",
       "</div>"
      ],
      "text/plain": [
       "                                            FileName  PdfSize  MetadataSize  \\\n",
       "0  aedaf3c5428a2e3ba600c44b96ad78dfdf8ed76e7df129...      8.0         180.0   \n",
       "1  fe767fb2584a10c010626263ea950643ac25f6ca24628f...     15.0         224.0   \n",
       "2  544c5223ee301affad514b6fa585b3191625aba0a7222b...      4.0         468.0   \n",
       "3  669772e626deccb9cfb7eb6a61e13d248d0ea08f1abe15...     17.0         250.0   \n",
       "4  e434c884f45a691b0bf33d765f61794007eb0b8bb9f590...      7.0         252.0   \n",
       "\n",
       "   Pages  XrefLength  TitleCharacters  isEncrypted  EmbeddedFiles Images Text  \\\n",
       "0    1.0        11.0              0.0          0.0            0.0      0   No   \n",
       "1    0.0        20.0              7.0          0.0            0.0      0   No   \n",
       "2    2.0        13.0             16.0          0.0            0.0      0  Yes   \n",
       "3    1.0        15.0              0.0          0.0            0.0      0   No   \n",
       "4    3.0        16.0             45.0          0.0            0.0      0  Yes   \n",
       "\n",
       "   ... AA OpenAction Acroform  JBIG2Decode RichMedia Launch  EmbeddedFile XFA  \\\n",
       "0  ...  0          1        0            0         0      0             0   0   \n",
       "1  ...  0          0        1            0         0      0             8   1   \n",
       "2  ...  0          1        0            0         0      0             0   0   \n",
       "3  ...  0          1        1            0         0      0             0   0   \n",
       "4  ...  0          1        0            0         0      0             0   0   \n",
       "\n",
       "  Colors      Class  \n",
       "0    0.0  Malicious  \n",
       "1    0.0  Malicious  \n",
       "2    0.0  Malicious  \n",
       "3    0.0  Malicious  \n",
       "4    0.0  Malicious  \n",
       "\n",
       "[5 rows x 33 columns]"
      ]
     },
     "execution_count": 59,
     "metadata": {},
     "output_type": "execute_result"
    }
   ],
   "source": [
    "df = pd.read_parquet(path)\n",
    "df.head()"
   ]
  },
  {
   "cell_type": "code",
   "execution_count": 60,
   "id": "3995c9c9",
   "metadata": {},
   "outputs": [
    {
     "name": "stdout",
     "output_type": "stream",
     "text": [
      "Class\n",
      "Malicious    5555\n",
      "Benign       4468\n",
      "Name: count, dtype: int64\n"
     ]
    }
   ],
   "source": [
    "print(df['Class'].value_counts())"
   ]
  },
  {
   "cell_type": "code",
   "execution_count": 61,
   "id": "f6defa4a",
   "metadata": {},
   "outputs": [
    {
     "name": "stdout",
     "output_type": "stream",
     "text": [
      "\n",
      "Data Types before preprocessing:\n",
      " FileName           category\n",
      "PdfSize             float32\n",
      "MetadataSize        float32\n",
      "Pages               float32\n",
      "XrefLength          float32\n",
      "TitleCharacters     float32\n",
      "isEncrypted         float32\n",
      "EmbeddedFiles       float32\n",
      "Images             category\n",
      "Text               category\n",
      "Header             category\n",
      "Obj                category\n",
      "Endobj             category\n",
      "Stream              float32\n",
      "Endstream          category\n",
      "Xref               category\n",
      "Trailer             float32\n",
      "StartXref          category\n",
      "PageNo             category\n",
      "Encrypt             float32\n",
      "ObjStm              float32\n",
      "JS                 category\n",
      "Javascript         category\n",
      "AA                 category\n",
      "OpenAction         category\n",
      "Acroform           category\n",
      "JBIG2Decode        category\n",
      "RichMedia          category\n",
      "Launch             category\n",
      "EmbeddedFile       category\n",
      "XFA                category\n",
      "Colors              float32\n",
      "Class              category\n",
      "dtype: object\n"
     ]
    }
   ],
   "source": [
    "print(\"\\nData Types before preprocessing:\\n\", df.dtypes)"
   ]
  },
  {
   "cell_type": "code",
   "execution_count": 62,
   "id": "446a725e",
   "metadata": {},
   "outputs": [
    {
     "name": "stdout",
     "output_type": "stream",
     "text": [
      "Columna: FileName\n",
      "['aedaf3c5428a2e3ba600c44b96ad78dfdf8ed76e7df12..., 'fe767fb2584a10c010626263ea950643ac25f6ca24628..., '544c5223ee301affad514b6fa585b3191625aba0a7222..., '669772e626deccb9cfb7eb6a61e13d248d0ea08f1abe1..., 'e434c884f45a691b0bf33d765f61794007eb0b8bb9f59..., ..., '908f8e3411d1bdf5e0fa7ca953c85cc4f133729fd4c71..., '72654b36f6a240d953a9ce3e898a4dfa381031ba7f5e2..., 'dad02289bc442e235961f4cf87cbde364a2250bdc5763..., 'b219390e223ea263476d65277d00804cfd0a93023e190..., 'b76c4910d7c637f32ebf175247d489a311c2a584a1ac6...]\n",
      "Length: 10023\n",
      "Categories (10023, object): ['0001dcb7233c85770732d138fcfe529f611b609de36e7..., '000c07e3b9954d3fb92986bbbc3fb057e01fe06132a9a..., '000f5b95164aa72e866d647a941be0d08fe0eec36be81..., '0011f338aed58e4563f0f8df965231df4491a734dc937..., ..., 'ffe19d79d9a595b5995f43de1f571fba0868fedae1971..., 'ffe31d1dd570c166a0a5d27744790f5d379bad6419586..., 'fff0587b2c63cbe23387f03c45a485a88052fd78410ed..., 'fffc9d34a2b4b8c0e38f078edbad1075547c5bea1dfe7...]\n",
      "--------------------------------------------------\n",
      "Columna: Images\n",
      "['0', '-1', '15', '1', '2', ..., '58', '592', '61', '107', '126']\n",
      "Length: 89\n",
      "Categories (89, object): ['-1', '0', '1', '1(1)', ..., '94', '95', '97', '99']\n",
      "--------------------------------------------------\n",
      "Columna: Text\n",
      "['No', 'Yes', 'unclear', '-1', '0']\n",
      "Categories (5, object): ['-1', '0', 'No', 'Yes', 'unclear']\n",
      "--------------------------------------------------\n",
      "Columna: Header\n",
      "['\\t%PDF-1.3', '\\t%PDF-1.6', '\\t%PDF-1.5', '\\t%PDF-1.4', '\\t%PDF-\\x07.3', ..., '\\t/bin/sh: 1: Syntax error: \"(\" unexpected', '\\t/bin/sh: 1: Syntax error: Unterminated quot..., '\\tyour', '-1', '\\tError opening file /mnt/hgfs/kali_stuff/CLE...]\n",
      "Length: 50\n",
      "Categories (50, object): ['\\t%PDF-0.9', '\\t%PDF-1.', '\\t%PDF-1.\"', '\\t%PDF-1.0', ..., '\\tyour', '-1', '0', '1']\n",
      "--------------------------------------------------\n",
      "Columna: Obj\n",
      "['10', '19', '12', '14', '15', ..., '1140', '1348', '338', '1033', '1099']\n",
      "Length: 479\n",
      "Categories (479, object): ['(most', '-1', '0', '1', ..., '993', '999', '_Pro_Rodeo_Pix_', '_Pro_Rodeo_Pix_'']\n",
      "--------------------------------------------------\n",
      "Columna: Endobj\n",
      "['10', '19', '12', '14', '15', ..., '1140', '1348', '338', '1033', '1099']\n",
      "Length: 478\n",
      "Categories (478, object): ['-1', '0', '1', '10', ..., '99', '993', '999', 'pdfid.py']\n",
      "--------------------------------------------------\n",
      "Columna: Endstream\n",
      "['3', '9', '2', '4', '6', ..., '201', '494', '222', '128', '411']\n",
      "Length: 241\n",
      "Categories (241, object): ['-1', '0', '1', '1(1)', ..., '97', '98', '99', 'pdfHeader)']\n",
      "--------------------------------------------------\n",
      "Columna: Xref\n",
      "['1', '3', '0', '46', '16', ..., '10', '33', 'pdfid.py', '14', '15']\n",
      "Length: 21\n",
      "Categories (21, object): ['-1', '0', '1', '10', ..., '7', '8', '9', 'pdfid.py']\n",
      "--------------------------------------------------\n",
      "Columna: StartXref\n",
      "['1', '3', '0', '24', '9', ..., 'bytes[endHeader]', '11', '20', '8', '15']\n",
      "Length: 20\n",
      "Categories (20, object): ['-1', '0', '1', '10', ..., '7', '8', '9', 'bytes[endHeader]']\n",
      "--------------------------------------------------\n",
      "Columna: PageNo\n",
      "['1', '2', '3', '15', '8', ..., '97', '70', '79', '132', '74']\n",
      "Length: 96\n",
      "Categories (96, object): ['-1', '0', '1', '1(1)', ..., '94', '97', '98', 'list']\n",
      "--------------------------------------------------\n",
      "Columna: JS\n",
      "['1', '0', '2', '3', '1(1)', ..., '14', '7', '52', '44', '63']\n",
      "Length: 32\n",
      "Categories (32, object): ['-1', '0', '1', '1(1)', ..., '7', '71', '8', '9']\n",
      "--------------------------------------------------\n",
      "Columna: Javascript\n",
      "['1', '0', '2', '3', '4', ..., '15', '53', '44', '39', '63']\n",
      "Length: 35\n",
      "Categories (35, object): ['-1', '0', '1', '1(1)', ..., '72', '8', '9', '>']\n",
      "--------------------------------------------------\n",
      "Columna: AA\n",
      "['0', '23', '7', '1', '2', ..., '21', '33', '66', '198', '151']\n",
      "Length: 40\n",
      "Categories (40, object): ['-1', '0', '1', '1(1)', ..., '66', '7', '8', '9']\n",
      "--------------------------------------------------\n",
      "Columna: OpenAction\n",
      "['1', '0', '2', '1(1)', '4', '-1', '12(2)', '3']\n",
      "Categories (8, object): ['-1', '0', '1', '1(1)', '12(2)', '2', '3', '4']\n",
      "--------------------------------------------------\n",
      "Columna: Acroform\n",
      "['0', '1', '2', '3', '1(1)', '-1', '4', '8', '5', '6']\n",
      "Categories (10, object): ['-1', '0', '1', '1(1)', ..., '4', '5', '6', '8']\n",
      "--------------------------------------------------\n",
      "Columna: JBIG2Decode\n",
      "['0', '1', '-1', '1(1)', '6', ..., '7', '12', '3', '8', '14']\n",
      "Length: 16\n",
      "Categories (16, object): ['-1', '0', '1', '1(1)', ..., '6', '7', '8', '9']\n",
      "--------------------------------------------------\n",
      "Columna: RichMedia\n",
      "['0', '4', '1', '2', '-1', '2(2)', '1(1)']\n",
      "Categories (7, object): ['-1', '0', '1', '1(1)', '2', '2(2)', '4']\n",
      "--------------------------------------------------\n",
      "Columna: Launch\n",
      "['0', '1', '-1', '1(1)', '2']\n",
      "Categories (5, object): ['-1', '0', '1', '1(1)', '2']\n",
      "--------------------------------------------------\n",
      "Columna: EmbeddedFile\n",
      "['0', '8', '9', '3', '1', ..., '11', '14', '13', '12', '15']\n",
      "Length: 19\n",
      "Categories (19, object): ['-1', '0', '1', '1(1)', ..., '5', '6', '8', '9']\n",
      "--------------------------------------------------\n",
      "Columna: XFA\n",
      "['0', '1', '2', '1(1)', '-1', '4', '5']\n",
      "Categories (7, object): ['-1', '0', '1', '1(1)', '2', '4', '5']\n",
      "--------------------------------------------------\n",
      "Columna: Class\n",
      "['Malicious', 'Benign']\n",
      "Categories (2, object): ['Benign', 'Malicious']\n",
      "--------------------------------------------------\n"
     ]
    }
   ],
   "source": [
    "categorical_columns = df.select_dtypes(include=['category']).columns.tolist()\n",
    "\n",
    "for col in categorical_columns:\n",
    "    print(f\"Columna: {col}\")\n",
    "    print(df[col].unique())\n",
    "    print(\"-\" * 50)"
   ]
  },
  {
   "cell_type": "code",
   "execution_count": 63,
   "id": "2a129d06",
   "metadata": {},
   "outputs": [
    {
     "name": "stdout",
     "output_type": "stream",
     "text": [
      "Text\n",
      "No         5398\n",
      "Yes        3761\n",
      "unclear     549\n",
      "-1          302\n",
      "0            13\n",
      "Name: count, dtype: int64\n"
     ]
    }
   ],
   "source": [
    "print(df['Text'].value_counts())"
   ]
  },
  {
   "cell_type": "markdown",
   "id": "44373300",
   "metadata": {},
   "source": [
    "After analyzing those columns of categorical type we see that they are numerical data that have been established with some data extraction tool that has extracted them in a not incorrect way but using numbers to refer to unclear, not precise, repeated, etc. data. As there are not so many numbers affected compared to the size of the dataset, we will try to save the ones we can but eliminate the ones we can't handle in a simple way with the following function."
   ]
  },
  {
   "cell_type": "markdown",
   "id": "bd44f42a",
   "metadata": {},
   "source": [
    "### Data Cleaning"
   ]
  },
  {
   "cell_type": "markdown",
   "id": "0325d807",
   "metadata": {},
   "source": [
    "Drop columns. Save class column in y_labels for using it for evaluation"
   ]
  },
  {
   "cell_type": "code",
   "execution_count": 64,
   "id": "c5feb9df",
   "metadata": {},
   "outputs": [],
   "source": [
    "df_model = df.drop(columns=['FileName', 'Text', 'Header', 'Class'], errors='ignore')\n",
    "y_labels = df['Class'].copy()"
   ]
  },
  {
   "cell_type": "code",
   "execution_count": 65,
   "id": "db274cdb",
   "metadata": {},
   "outputs": [
    {
     "name": "stdout",
     "output_type": "stream",
     "text": [
      "Original: 1(1) --> Limpiado: 1\n",
      "Original: 34(2) --> Limpiado: 34\n",
      "Original: 404 --> Limpiado: 404\n",
      "Original: > --> Limpiado: nan\n",
      "Original: 19 --> Limpiado: 19\n",
      "Original: 2(1) --> Limpiado: 2\n",
      "Original: abc --> Limpiado: nan\n",
      "Original: 0 --> Limpiado: 0\n",
      "Original: 7 --> Limpiado: 7\n",
      "Original: nan --> Limpiado: nan\n"
     ]
    }
   ],
   "source": [
    "import re\n",
    "\n",
    "def clean_value(x):\n",
    "    if isinstance(x, str):\n",
    "        match = re.search(r'^-?\\d+', x)\n",
    "        if match:\n",
    "            return int(match.group())\n",
    "        else:\n",
    "            return np.nan\n",
    "    else:\n",
    "        return x\n",
    "test_values = [\n",
    "    \"1(1)\", \"34(2)\", \"404\", \">\", \"19\", \"2(1)\", \"abc\", 0, 7, np.nan\n",
    "]\n",
    "\n",
    "for val in test_values:\n",
    "    cleaned_val = clean_value(val)\n",
    "    print(f\"Original: {val} --> Limpiado: {cleaned_val}\")"
   ]
  },
  {
   "cell_type": "code",
   "execution_count": 66,
   "id": "5f9f534a",
   "metadata": {},
   "outputs": [
    {
     "name": "stdout",
     "output_type": "stream",
     "text": [
      "Number of rows with at least one NaN: 37\n",
      "Percentage: 0.37%\n"
     ]
    }
   ],
   "source": [
    "categorical_cols = df_model.select_dtypes(include=['category']).columns\n",
    "for col in categorical_cols:\n",
    "    df_model[col] = df_model[col].apply(clean_value).astype(float)\n",
    "\n",
    "nan_rows = df_model.isna().any(axis=1).sum()\n",
    "print(f\"Number of rows with at least one NaN: {nan_rows}\")\n",
    "print(f\"Percentage: {nan_rows / len(df_model):.2%}\")"
   ]
  },
  {
   "cell_type": "markdown",
   "id": "baec4245",
   "metadata": {},
   "source": [
    "Drop nan values"
   ]
  },
  {
   "cell_type": "code",
   "execution_count": 67,
   "id": "51c5d8b4",
   "metadata": {},
   "outputs": [],
   "source": [
    "valid_indices = df_model.dropna().index\n",
    "\n",
    "df_model = df_model.loc[valid_indices].reset_index(drop=True)\n",
    "y_labels = y_labels.loc[valid_indices].reset_index(drop=True)"
   ]
  },
  {
   "cell_type": "code",
   "execution_count": 68,
   "id": "b13dc754",
   "metadata": {},
   "outputs": [
    {
     "name": "stdout",
     "output_type": "stream",
     "text": [
      "9986\n"
     ]
    }
   ],
   "source": [
    "print(len(df_model))"
   ]
  },
  {
   "cell_type": "markdown",
   "id": "16f061e4",
   "metadata": {},
   "source": [
    "### DISTRIBUTION OF DATA"
   ]
  },
  {
   "cell_type": "code",
   "execution_count": 69,
   "id": "a6ee2207",
   "metadata": {},
   "outputs": [],
   "source": [
    "benign_mask = y_labels == 'Benign'\n",
    "X_benign = df_model[benign_mask]\n",
    "X_malicious = df_model[~benign_mask]"
   ]
  },
  {
   "cell_type": "code",
   "execution_count": 70,
   "id": "366e8684",
   "metadata": {},
   "outputs": [
    {
     "name": "stdout",
     "output_type": "stream",
     "text": [
      "4466\n",
      "5520\n"
     ]
    }
   ],
   "source": [
    "print(len(X_benign))\n",
    "print(len(X_malicious))"
   ]
  },
  {
   "cell_type": "code",
   "execution_count": 71,
   "id": "16298c2e",
   "metadata": {},
   "outputs": [
    {
     "name": "stdout",
     "output_type": "stream",
     "text": [
      "X_train_scaled: (3572, 29)\n",
      "X_test_scaled: (6414, 29)\n",
      "y_test: (6414,)\n"
     ]
    }
   ],
   "source": [
    "X_benign_train, X_benign_test = train_test_split(X_benign, test_size=0.2, random_state=42)\n",
    "\n",
    "X_test = pd.concat([X_benign_test, X_malicious], axis=0).reset_index(drop=True)\n",
    "y_test = pd.concat([\n",
    "    pd.Series(['Benign'] * len(X_benign_test)),\n",
    "    pd.Series(['Malicious'] * len(X_malicious))\n",
    "], axis=0).reset_index(drop=True)\n",
    "\n",
    "scaler = MinMaxScaler()\n",
    "scaler.fit(X_benign_train)\n",
    "\n",
    "X_train_scaled = scaler.transform(X_benign_train)\n",
    "X_test_scaled = scaler.transform(X_test)\n",
    "\n",
    "print(f\"X_train_scaled: {X_train_scaled.shape}\")\n",
    "print(f\"X_test_scaled: {X_test_scaled.shape}\")\n",
    "print(f\"y_test: {y_test.shape}\")"
   ]
  },
  {
   "cell_type": "markdown",
   "id": "91857be3",
   "metadata": {},
   "source": [
    "## MODEL ARCHITECTURE"
   ]
  },
  {
   "cell_type": "code",
   "execution_count": null,
   "id": "eee5cdff",
   "metadata": {},
   "outputs": [
    {
     "name": "stdout",
     "output_type": "stream",
     "text": [
      "Epoch 1/100\n",
      "51/51 [==============================] - 1s 6ms/step - loss: 0.2409 - mse: 0.0887 - val_loss: 0.0526 - val_mse: 0.0091\n",
      "Epoch 2/100\n",
      "51/51 [==============================] - 0s 3ms/step - loss: 0.0355 - mse: 0.0058 - val_loss: 0.0253 - val_mse: 0.0047\n",
      "Epoch 3/100\n",
      "51/51 [==============================] - 0s 3ms/step - loss: 0.0268 - mse: 0.0046 - val_loss: 0.0240 - val_mse: 0.0046\n",
      "Epoch 4/100\n",
      "51/51 [==============================] - 0s 3ms/step - loss: 0.0254 - mse: 0.0044 - val_loss: 0.0223 - val_mse: 0.0044\n",
      "Epoch 5/100\n",
      "51/51 [==============================] - 0s 3ms/step - loss: 0.0241 - mse: 0.0042 - val_loss: 0.0213 - val_mse: 0.0042\n",
      "Epoch 6/100\n",
      "51/51 [==============================] - 0s 2ms/step - loss: 0.0232 - mse: 0.0041 - val_loss: 0.0209 - val_mse: 0.0041\n",
      "Epoch 7/100\n",
      "51/51 [==============================] - 0s 4ms/step - loss: 0.0227 - mse: 0.0039 - val_loss: 0.0213 - val_mse: 0.0040\n",
      "Epoch 8/100\n",
      "51/51 [==============================] - 0s 3ms/step - loss: 0.0225 - mse: 0.0039 - val_loss: 0.0214 - val_mse: 0.0040\n",
      "Epoch 9/100\n",
      "51/51 [==============================] - 0s 3ms/step - loss: 0.0224 - mse: 0.0039 - val_loss: 0.0218 - val_mse: 0.0040\n",
      "Epoch 10/100\n",
      "51/51 [==============================] - 0s 3ms/step - loss: 0.0221 - mse: 0.0038 - val_loss: 0.0211 - val_mse: 0.0040\n",
      "Epoch 11/100\n",
      "51/51 [==============================] - 0s 3ms/step - loss: 0.0218 - mse: 0.0038 - val_loss: 0.0215 - val_mse: 0.0039\n"
     ]
    }
   ],
   "source": [
    "from tensorflow.keras import layers, Model, Sequential\n",
    "import tensorflow as tf\n",
    "\n",
    "class AnomalyDetector(Model):\n",
    "    def __init__(self, input_dim):\n",
    "        super(AnomalyDetector, self).__init__()\n",
    "        self.encoder = Sequential([\n",
    "            layers.Dense(64, activation='relu', input_shape=(input_dim,)),\n",
    "            layers.Dropout(0.2),\n",
    "            layers.Dense(32, activation='relu'),\n",
    "            layers.Dense(7, activation='relu') \n",
    "        ])\n",
    "        self.decoder = Sequential([\n",
    "            layers.Dense(32, activation='relu'),\n",
    "            layers.Dense(64, activation='relu'),\n",
    "            layers.Dense(input_dim, activation='sigmoid')\n",
    "        ])\n",
    "\n",
    "    def call(self, x):\n",
    "        encoded = self.encoder(x)\n",
    "        decoded = self.decoder(encoded)\n",
    "        return decoded\n",
    "\n",
    "input_dim = X_train_scaled.shape[1]\n",
    "autoencoder = AnomalyDetector(input_dim)\n",
    "\n",
    "autoencoder.compile(\n",
    "    optimizer=tf.keras.optimizers.Adam(learning_rate=0.001),\n",
    "    loss='mae',\n",
    "    metrics=['mse']\n",
    ")\n",
    "\n",
    "early_stop = tf.keras.callbacks.EarlyStopping(\n",
    "    monitor='val_loss',\n",
    "    patience=5,\n",
    "    mode='min',\n",
    "    restore_best_weights=True\n",
    ")\n",
    "\n",
    "history = autoencoder.fit(\n",
    "    X_train_scaled,\n",
    "    X_train_scaled,\n",
    "    epochs=50,\n",
    "    batch_size=64,  \n",
    "    validation_split=0.1,\n",
    "    shuffle=True,\n",
    "    callbacks=[early_stop],\n",
    "    verbose=1\n",
    ")\n"
   ]
  },
  {
   "cell_type": "markdown",
   "id": "71dc1b0b",
   "metadata": {
    "tags": [
     "parameters"
    ]
   },
   "source": [
    "In autoencoders, the goal is not to classify examples into categories, but to reconstruct the inputs as best as possible from a compressed representation. Therefore, metrics such as accuracy are not appropriate during training, since you are not comparing a predicted class against a real class. Instead, reconstruction metrics such as MAE (mean absolute error) and MSE (mean squared error) are used to quantify how different the reconstructed output is from the original input. Accuracy would only make sense in the subsequent evaluation stage, if an error threshold is set to classify examples as normal or anomalous and compare these predictions against the true labels.\n",
    "\n",
    "\n",
    "loss = MAE This is the official model optimization metric. More stable and robust.\n",
    "\n",
    "mse as an extra metric Helps you monitor sensitivity to large errors, without directly influencing the optimization."
   ]
  },
  {
   "cell_type": "markdown",
   "id": "60b1de23",
   "metadata": {},
   "source": [
    "### Display training history (loss, val_loss) with a chart"
   ]
  },
  {
   "cell_type": "code",
   "execution_count": 73,
   "id": "1dd326c1",
   "metadata": {},
   "outputs": [
    {
     "data": {
      "image/png": "[encoded data removed]",
      "text/plain": [
       "<Figure size 1000x500 with 1 Axes>"
      ]
     },
     "metadata": {},
     "output_type": "display_data"
    }
   ],
   "source": [
    "import matplotlib.pyplot as plt\n",
    "\n",
    "history_dict = history.history\n",
    "\n",
    "plt.figure(figsize=(10, 5))\n",
    "plt.plot(history_dict['loss'], label='Training Loss (MAE)', marker='o')\n",
    "plt.plot(history_dict['val_loss'], label='Validation Loss (MAE)', marker='o')\n",
    "plt.title('Training and Validation Loss (MAE)')\n",
    "plt.xlabel('Epoch')\n",
    "plt.ylabel('Loss')\n",
    "plt.legend()\n",
    "plt.grid(True)\n",
    "plt.tight_layout()\n",
    "plt.show()"
   ]
  },
  {
   "cell_type": "code",
   "execution_count": 74,
   "id": "4e97d69b",
   "metadata": {},
   "outputs": [
    {
     "data": {
      "image/png": "[encoded data removed]",
      "text/plain": [
       "<Figure size 1000x500 with 1 Axes>"
      ]
     },
     "metadata": {},
     "output_type": "display_data"
    }
   ],
   "source": [
    "plt.figure(figsize=(10, 5))\n",
    "plt.plot(history_dict['mse'], label='Training MSE', marker='x')\n",
    "plt.plot(history_dict['val_mse'], label='Validation MSE', marker='x')\n",
    "plt.title('Training and Validation MSE')\n",
    "plt.xlabel('Epoch')\n",
    "plt.ylabel('Mean Squared Error')\n",
    "plt.legend()\n",
    "plt.grid(True)\n",
    "plt.tight_layout()\n",
    "plt.show()\n"
   ]
  },
  {
   "cell_type": "markdown",
   "id": "42ad5dcf",
   "metadata": {},
   "source": [
    "Remarks:\n",
    "\n",
    "1. Loss (MAE) plot:\n",
    "- Large initial decline in the first 3-5 epochs → the model quickly learns to reconstruct benign data.\n",
    "- From epoch ~10 onwards, the curve stabilizes.\n",
    "- No signs of overfitting:\n",
    "\n",
    "The model is generalizing well, and that training was sufficient with no need for further training.\n",
    "\n",
    "2. MSE graph\n",
    "- very similar to MAE:\n",
    "- No abnormal peaks or fluctuations, confirming that the model is stable.\n",
    "\n",
    "The val_mse curve follows mse closely, reinforcing that there is no overfitting and the model is ready to evaluate in test.\n",
    "\n",
    "The autoencoder has correctly learned to reconstruct benign data."
   ]
  },
  {
   "cell_type": "markdown",
   "id": "77d0bae3",
   "metadata": {},
   "source": [
    "### Calculate the reconstruction error on X_test_scaled"
   ]
  },
  {
   "cell_type": "markdown",
   "id": "ebe73ab9",
   "metadata": {},
   "source": [
    "If the PDF is benign, the model should reconstruct it very well (low error).\n",
    "\n",
    "If the PDF is malicious, its structure will not be “familiar” → the autoencoder will fail to reconstruct → high error."
   ]
  },
  {
   "cell_type": "code",
   "execution_count": 75,
   "id": "dfd5548b",
   "metadata": {},
   "outputs": [
    {
     "name": "stdout",
     "output_type": "stream",
     "text": [
      "201/201 [==============================] - 1s 2ms/step\n",
      "count    6414.000000\n",
      "mean        0.047162\n",
      "std         0.258011\n",
      "min         0.003236\n",
      "25%         0.015277\n",
      "50%         0.019862\n",
      "75%         0.035378\n",
      "max        11.534980\n",
      "dtype: float64\n"
     ]
    }
   ],
   "source": [
    "X_test_pred = autoencoder.predict(X_test_scaled)\n",
    "\n",
    "reconstruction_error = np.mean(np.abs(X_test_pred - X_test_scaled), axis=1)\n",
    "\n",
    "print(pd.Series(reconstruction_error).describe())"
   ]
  },
  {
   "cell_type": "code",
   "execution_count": 76,
   "id": "9bcdc2cc",
   "metadata": {},
   "outputs": [
    {
     "data": {
      "image/png": "[encoded data removed]",
      "text/plain": [
       "<Figure size 800x500 with 1 Axes>"
      ]
     },
     "metadata": {},
     "output_type": "display_data"
    },
    {
     "data": {
      "image/png": "[encoded data removed]",
      "text/plain": [
       "<Figure size 800x500 with 1 Axes>"
      ]
     },
     "metadata": {},
     "output_type": "display_data"
    }
   ],
   "source": [
    "df_error = pd.DataFrame({\n",
    "    'Reconstruction Error': reconstruction_error,\n",
    "    'Label': y_test\n",
    "})\n",
    "\n",
    "benign_errors = df_error[df_error['Label'] == 'Benign']['Reconstruction Error']\n",
    "malicious_errors = df_error[df_error['Label'] == 'Malicious']['Reconstruction Error']\n",
    "\n",
    "# BENIGN PDFS\n",
    "plt.figure(figsize=(8, 5))\n",
    "plt.scatter(range(len(benign_errors)), benign_errors, color='blue', alpha=0.5, s=10)\n",
    "plt.title(\"Reconstruction Error - Benign PDFs\")\n",
    "plt.xlabel(\"Sample Index\")\n",
    "plt.ylabel(\"Reconstruction Error\")\n",
    "plt.grid(True)\n",
    "plt.tight_layout()\n",
    "plt.show()\n",
    "\n",
    "# MALICIOUS PDFS\n",
    "plt.figure(figsize=(8, 5))\n",
    "plt.scatter(range(len(malicious_errors)), malicious_errors, color='red', alpha=0.5, s=10)\n",
    "plt.title(\"Reconstruction Error - Malicious PDFs\")\n",
    "plt.xlabel(\"Sample Index\")\n",
    "plt.ylabel(\"Reconstruction Error\")\n",
    "plt.grid(True)\n",
    "plt.tight_layout()\n",
    "plt.show()\n",
    "\n"
   ]
  },
  {
   "cell_type": "markdown",
   "id": "4d3f0283",
   "metadata": {},
   "source": [
    "## Threshold and predictions"
   ]
  },
  {
   "cell_type": "code",
   "execution_count": 80,
   "id": "781926d8",
   "metadata": {},
   "outputs": [],
   "source": [
    "y_test_bin = y_test.map({'Benign': 0, 'Malicious': 1}).values"
   ]
  },
  {
   "cell_type": "code",
   "execution_count": null,
   "id": "182a0894",
   "metadata": {},
   "outputs": [
    {
     "data": {
      "image/png": "[encoded data removed]",
      "text/plain": [
       "<Figure size 800x600 with 1 Axes>"
      ]
     },
     "metadata": {},
     "output_type": "display_data"
    }
   ],
   "source": [
    "thresholds = np.linspace(0.001, 0.2, 200)\n",
    "precisions, recalls, f1s = [], [], []\n",
    "\n",
    "for t in thresholds:\n",
    "    y_pred = (reconstruction_error > t).astype(int)\n",
    "    precisions.append(precision_score(y_test_bin, y_pred))\n",
    "    recalls.append(recall_score(y_test_bin, y_pred))\n",
    "    f1s.append(f1_score(y_test_bin, y_pred))\n",
    "\n",
    "best_idx = np.argmax(f1s)\n",
    "best_threshold = thresholds[best_idx]\n",
    "best_precision = precisions[best_idx]\n",
    "best_recall = recalls[best_idx]\n",
    "best_f1 = f1s[best_idx]\n",
    "\n",
    "plt.figure(figsize=(8, 6))\n",
    "plt.plot(recalls, precisions, marker='.')\n",
    "plt.xlabel('Recall')\n",
    "plt.ylabel('Precision')\n",
    "plt.title('Precision-Recall Curve')\n",
    "plt.grid(True)\n",
    "plt.show()"
   ]
  },
  {
   "cell_type": "code",
   "execution_count": null,
   "id": "b72491b1",
   "metadata": {},
   "outputs": [
    {
     "data": {
      "text/plain": [
       "<Figure size 600x500 with 0 Axes>"
      ]
     },
     "metadata": {},
     "output_type": "display_data"
    },
    {
     "data": {
      "image/png": "[encoded data removed]",
      "text/plain": [
       "<Figure size 640x480 with 2 Axes>"
      ]
     },
     "metadata": {},
     "output_type": "display_data"
    },
    {
     "name": "stdout",
     "output_type": "stream",
     "text": [
      "Threshold óptimo: 0.0100\n",
      "Precision: 0.9084\n",
      "Recall:    0.9841\n",
      "F1-score:  0.9447\n"
     ]
    }
   ],
   "source": [
    "y_pred_optimal = (reconstruction_error > best_threshold).astype(int)\n",
    "\n",
    "cm = confusion_matrix(y_test_bin, y_pred_optimal)\n",
    "plt.figure(figsize=(6, 5))\n",
    "disp = ConfusionMatrixDisplay(confusion_matrix=cm, display_labels=[\"Benign\", \"Malicious\"])\n",
    "disp.plot(cmap='Blues', values_format='d')\n",
    "plt.title(f'Confusion Matrix\\n(Optimal Threshold = {best_threshold:.4f})')\n",
    "plt.grid(False)\n",
    "plt.show()\n",
    "\n",
    "print(f\"Threshold óptimo: {best_threshold:.4f}\")\n",
    "print(f\"Precision: {best_precision:.4f}\")\n",
    "print(f\"Recall:    {best_recall:.4f}\")\n",
    "print(f\"F1-score:  {best_f1:.4f}\")\n"
   ]
  }
 ],
 "metadata": {
  "kernelspec": {
   "display_name": "tf_env",
   "language": "python",
   "name": "python3"
  },
  "language_info": {
   "codemirror_mode": {
    "name": "ipython",
    "version": 3
   },
   "file_extension": ".py",
   "mimetype": "text/x-python",
   "name": "python",
   "nbconvert_exporter": "python",
   "pygments_lexer": "ipython3",
   "version": "3.10.13"
  }
 },
 "nbformat": 4,
 "nbformat_minor": 5
}
